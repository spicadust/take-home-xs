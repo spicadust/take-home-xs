{
  "cells": [
    {
      "cell_type": "markdown",
      "metadata": {},
      "source": [
        "# Take home example notebook\n",
        "\n",
        "This notebook is an example of a take home assignment notebook. It will not run. Feel free, to use different packages or entirely different methods. The goal is to show your thought process and how you approach a problem."
      ]
    },
    {
      "cell_type": "code",
      "execution_count": 4,
      "metadata": {},
      "outputs": [],
      "source": [
        "import numpy as np\n",
        "import pandas as pd"
      ]
    },
    {
      "cell_type": "code",
      "execution_count": 3,
      "metadata": {},
      "outputs": [],
      "source": [
        "# Pseudo code which will not run\n",
        "# Load the data\n",
        "df = pd.read_csv(\"data.csv\")\n",
        "scores = {}\n",
        "scores_df = pd.DataFrame({})"
      ]
    },
    {
      "cell_type": "code",
      "execution_count": 2,
      "metadata": {},
      "outputs": [],
      "source": [
        "# Merge\n",
        "merged = pd.merge(df, scores_df, on=\"id\")"
      ]
    },
    {
      "cell_type": "code",
      "execution_count": null,
      "metadata": {},
      "outputs": [],
      "source": [
        "# Fit\n",
        "x = np.array([1, 2, 3])\n",
        "y = np.array([1, 2, 3])\n",
        "\n",
        "m = np.polyfit(x, y, 1)"
      ]
    },
    {
      "cell_type": "code",
      "execution_count": null,
      "metadata": {},
      "outputs": [],
      "source": [
        "# Evaluate and comment\n",
        "# By visual inspection, the data is clearly not linear"
      ]
    }
  ],
  "metadata": {
    "kernelspec": {
      "display_name": ".venv",
      "language": "python",
      "name": "python3"
    },
    "language_info": {
      "codemirror_mode": {
        "name": "ipython",
        "version": 3
      },
      "file_extension": ".py",
      "mimetype": "text/x-python",
      "name": "python",
      "nbconvert_exporter": "python",
      "pygments_lexer": "ipython3",
      "version": "3.10.14"
    }
  },
  "nbformat": 4,
  "nbformat_minor": 2
}
